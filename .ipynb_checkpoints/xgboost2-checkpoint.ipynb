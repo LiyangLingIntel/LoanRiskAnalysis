{
 "cells": [
  {
   "cell_type": "code",
   "execution_count": null,
   "metadata": {},
   "outputs": [],
   "source": [
    "import numpy as np\n",
    "import pandas as pd\n",
    "import time \n",
    "import xgboost as xgb\n",
    "from sklearn.cross_validation import train_test_split\n",
    "from sklearn.preprocessing import OneHotEncoder"
   ]
  },
  {
   "cell_type": "code",
   "execution_count": null,
   "metadata": {
    "collapsed": true
   },
   "outputs": [],
   "source": [
    "import numpy as np # linear algebra\n",
    "import pandas as pd # data processing, CSV file I/O (e.g. pd.read_csv)\n",
    "import matplotlib.pyplot as plt\n",
    "\n",
    "import matplotlib as mpl\n",
    "mpl.rcParams['font.sans-serif'] = ['SimHei']\n",
    "mpl.rcParams['font.serif'] = ['SimHei']\n",
    "import seaborn as sns\n",
    "%matplotlib inline\n",
    "p = sns.color_palette()\n",
    "sns.set_style(\"darkgrid\",{\"font.sans-serif\":['simhei', 'Arial']})"
   ]
  },
  {
   "cell_type": "markdown",
   "metadata": {},
   "source": [
    "## 用户信息表："
   ]
  },
  {
   "cell_type": "code",
   "execution_count": null,
   "metadata": {},
   "outputs": [],
   "source": [
    "train = pd.read_csv(\"D:/Files/QQFiles/935257580/FileRecv/personal loan/feature/train_A.csv\",encoding=\"gb2312\") # 注意自己数据路径\n",
    "test = pd.read_csv(\"D:/Files/QQFiles/935257580/FileRecv/personal loan/feature/test_A.csv\",encoding=\"gb2312\") # 注意自己数据路径\n",
    "test=test.fillna(-1)\n",
    "\n",
    "dataset= pd.concat([train,test],axis=0).reset_index()\n",
    "label=dataset[['用户标识','标签']]\n",
    "dataset=dataset.drop(['index','用户标识'],axis=1)\n",
    "\n",
    "dataset=pd.get_dummies(dataset,columns=dataset[['用户性别','用户职业','用户教育程度','用户婚姻状态','用户户口类型']]).drop(['标签'],axis=1)\n",
    "dataset #23899 rows × 24 columns\n",
    "from sklearn.preprocessing import PolynomialFeatures\n",
    "poly = PolynomialFeatures(interaction_only=True)\n",
    "dataset=poly.fit_transform(dataset)\n",
    "#dataset.shape\n",
    "df = pd.DataFrame(dataset.reshape(23899,301))\n",
    "df.interpolate(axis=1).values.reshape(dataset.shape)\n",
    "\n",
    "#dataset\n",
    "#trains=pd.merge(label,df,left_index=True,right_index=True,how='outer')\n",
    "trains=pd.concat([label,df],axis=1)"
   ]
  },
  {
   "cell_type": "code",
   "execution_count": null,
   "metadata": {},
   "outputs": [],
   "source": [
    "#trains\n",
    "trains.to_csv(\"D:/Files/QQFiles/935257580/FileRecv/personal loan/feature/featureall_ui.csv\",index=None,encoding=\"gb2312\") #23899 rows × 1171 columns 没有删去用户标识"
   ]
  },
  {
   "cell_type": "markdown",
   "metadata": {},
   "source": [
    "## 用户浏览行为训练表："
   ]
  },
  {
   "cell_type": "code",
   "execution_count": null,
   "metadata": {
    "collapsed": true
   },
   "outputs": [],
   "source": [
    "train = pd.read_csv(\"D:/Files/QQFiles/935257580/FileRecv/personal loan/feature/user_browse_test.csv\",encoding=\"gb2312\") # 注意自己数据路径\n",
    "test = pd.read_csv(\"D:/Files/QQFiles/935257580/FileRecv/personal loan/feature/user_browse_train.csv\",encoding=\"gb2312\") # 注意自己数据路径\n",
    "dataset= pd.concat([train,test],axis=0)\n",
    "\n",
    "temp=dataset[:]\n",
    "temp.drop('放款时间',axis=1, inplace=True)\n",
    "print(temp.shape)\n",
    "#统计行和列的缺失值数\n",
    "dataset=dataset.fillna(-1)\n",
    "temp['用户浏览行为缺失统计']=(dataset==-1).sum(axis=1)\n",
    "#用均值填充缺失值\n",
    "#temp.fillna(temp.mean(),inplace=True)\n",
    "temp.fillna(0,inplace=True) #0填充缺失值\n",
    "print(temp.shape)\n",
    "trains=pd.merge(trains,temp,how='left', on = \"用户标识\")\n",
    "print(trains.shape)"
   ]
  },
  {
   "cell_type": "code",
   "execution_count": null,
   "metadata": {
    "collapsed": true
   },
   "outputs": [],
   "source": [
    "#trains\n",
    "trains.to_csv(\"D:/Files/QQFiles/935257580/FileRecv/personal loan/feature/featureall_browse.csv\",index=None,encoding=\"gb2312\") #0填充 23899 rows × 1171 columns 没有删去用户标识"
   ]
  },
  {
   "cell_type": "markdown",
   "metadata": {},
   "source": [
    "## 用户银行流水记录表："
   ]
  },
  {
   "cell_type": "code",
   "execution_count": null,
   "metadata": {
    "collapsed": true
   },
   "outputs": [],
   "source": [
    "train = pd.read_csv(\"D:/Files/QQFiles/935257580/FileRecv/personal loan/feature/bank_train.csv\",encoding=\"gb2312\")\n",
    "test = pd.read_csv(\"D:/Files/QQFiles/935257580/FileRecv/personal loan/feature/bank_test.csv\",encoding=\"gb2312\")\n",
    "dataset= pd.concat([train,test],axis=0)\n",
    "temp=dataset[:]\n",
    "temp.drop('放款时间',axis=1, inplace=True)\n",
    "print(temp.shape)\n",
    "#统计行和列的缺失值数\n",
    "dataset=dataset.fillna(-1)\n",
    "temp['用户银行流水记录缺失统计']=(dataset==-1).sum(axis=1)\n",
    "#用均值填充缺失值\n",
    "#temp.fillna(temp.mean(),inplace=True)\n",
    "temp.fillna(0,inplace=True)\n",
    "print(temp.shape)\n",
    "trains=pd.merge(trains,temp,how='left', on = \"用户标识\")\n",
    "print(trains.shape)"
   ]
  },
  {
   "cell_type": "code",
   "execution_count": null,
   "metadata": {
    "collapsed": true
   },
   "outputs": [],
   "source": [
    "#trains\n",
    "trains.to_csv(\"D:/Files/QQFiles/935257580/FileRecv/personal loan/feature/featureall_bank.csv\",index=None,encoding=\"gb2312\") #0填充 23899 rows × 1171 columns 没有删去用户标识"
   ]
  },
  {
   "cell_type": "markdown",
   "metadata": {},
   "source": [
    "## 用户账单表初级特征："
   ]
  },
  {
   "cell_type": "code",
   "execution_count": null,
   "metadata": {
    "collapsed": true
   },
   "outputs": [],
   "source": [
    "beifen=trains\n",
    "train = pd.read_csv(\"D:/Files/QQFiles/935257580/FileRecv/personal loan/feature/bill_prifeature_train.csv\",encoding=\"gb2312\") # 注意自己数据路径\n",
    "test = pd.read_csv(\"D:/Files/QQFiles/935257580/FileRecv/personal loan/feature/bill_prifeature_test.csv\",encoding=\"gb2312\") # 注意自己数据路径\n",
    "dataset= pd.concat([train,test],axis=0)\n",
    "temp=dataset[:]\n",
    "temp.drop('放款时间',axis=1, inplace=True)\n",
    "print(temp.shape)\n",
    "#统计行和列的缺失值数\n",
    "dataset=dataset.fillna(-1)\n",
    "temp['用户账单表初级特征缺失统计']=(dataset==-1).sum(axis=1)\n",
    "#特征轮：构造放款后与放款前差值特征\n",
    "feature_name=temp.columns \n",
    "for name in feature_name:\n",
    "    if name.find('款后')> 0:\n",
    "        x1=name.replace('款后','款前')\n",
    "        if x1 in feature_name:\n",
    "            temp[name+\"与\"+x1+\"差值\"]=temp[name]-temp[x1]        \n",
    "#用均值填充缺失值\n",
    "#emp.fillna(temp.mean(),inplace=True)\n",
    "temp.fillna(0,inplace=True)\n",
    "print(temp.shape)\n",
    "trains=pd.merge(trains,temp,how='left', on = \"用户标识\")\n",
    "print(trains.shape)#69495 rows × 445  columns"
   ]
  },
  {
   "cell_type": "code",
   "execution_count": null,
   "metadata": {
    "collapsed": true
   },
   "outputs": [],
   "source": [
    "trains.to_csv(\"D:/Files/QQFiles/935257580/FileRecv/personal loan/feature/featureall_billpri.csv\",index=None,encoding=\"gb2312\") #0填充 23899 rows × 1171 columns 没有删去用户标识"
   ]
  },
  {
   "cell_type": "markdown",
   "metadata": {},
   "source": [
    "## 用户账单表特征_时间已知："
   ]
  },
  {
   "cell_type": "code",
   "execution_count": null,
   "metadata": {
    "collapsed": true
   },
   "outputs": [],
   "source": [
    "beifen=trains[:]\n",
    "train = pd.read_csv(\"D:/Files/QQFiles/935257580/FileRecv/personal loan/feature/bill_feature_t_train.csv\",encoding=\"gb2312\") # 注意自己数据路径\n",
    "test = pd.read_csv(\"D:/Files/QQFiles/935257580/FileRecv/personal loan/feature/bill_feature_t_test.csv\",encoding=\"gb2312\") # 注意自己数据路径\n",
    "dataset= pd.concat([train,test],axis=0)\n",
    "temp=dataset[:]\n",
    "temp.drop('放款时间',axis=1, inplace=True)\n",
    "print(temp.shape)#(69495, 473)\n",
    "#统计行和列的缺失值数\n",
    "dataset=dataset.fillna(-1)\n",
    "temp['用户账单表特征_时间已知缺失统计']=(dataset==-1).sum(axis=1)\n",
    "#特征轮：构造放款后与放款前差值特征\n",
    "feature_name=temp.columns \n",
    "\n",
    "for name in feature_name:\n",
    "    if name.find('款后')> 0:\n",
    "        x1=name.replace('款后','款前')\n",
    "        if x1 in feature_name:\n",
    "            temp[name+\"与\"+x1+\"差值\"]=temp[name]-temp[x1]        \n",
    "#用均值填充缺失值\n",
    "#temp.fillna(temp.mean(),inplace=True)\n",
    "temp.fillna(0,inplace=True)\n",
    "print(temp.shape)#(69495, 706)\n",
    "trains=pd.merge(trains,temp,how='left', on = \"用户标识\")\n",
    "print(trains.shape)#69495 rows × 1150 columns"
   ]
  },
  {
   "cell_type": "markdown",
   "metadata": {},
   "source": [
    "## 用户账单表特征_时间未知"
   ]
  },
  {
   "cell_type": "code",
   "execution_count": null,
   "metadata": {
    "collapsed": true
   },
   "outputs": [],
   "source": [
    "beifen=trains[:]\n",
    "train = pd.read_csv(\"D:/Files/QQFiles/935257580/FileRecv/personal loan/feature/bill_feature_nt_train.csv\",encoding=\"gb2312\") # 注意自己数据路径\n",
    "test = pd.read_csv(\"D:/Files/QQFiles/935257580/FileRecv/personal loan/feature/bill_featyre_nt_test.csv\",encoding=\"gb2312\") # 注意自己数据路径\n",
    "\n",
    "#2017.02.04随机删除部分时间未知样本，保证训练集与测试集的特征分布相似\n",
    "print(train.shape)\n",
    "train已知=train[train['时间未知上期账单金额sum'].isnull().values==True]#(39830, 241)\n",
    "print(train已知.shape)\n",
    "train未知=train[train['时间未知上期账单金额sum'].isnull().values==False]#(15766, 241)\n",
    "print(train未知.shape)\n",
    "t1,t2=train_test_split(train未知, test_size = 0.5,random_state=36)#\n",
    "print(t1.shape)\n",
    "train=pd.concat([train已知,t1],axis=0)\n",
    "print(train.shape)\n",
    "\n",
    "####################################################################\n",
    "\n",
    "dataset= pd.concat([train,test],axis=0)\n",
    "#dataset['账单时间未知标志']=1\n",
    "temp=dataset[:]\n",
    "#temp.drop('放款时间',axis=1, inplace=True)\n",
    "print(temp.shape)#(69495, 242)\n",
    "#统计行和列的缺失值数\n",
    "dataset=dataset.fillna(-1)\n",
    "temp['用户账单表特征_时间未知缺失统计']=(dataset==-1).sum(axis=1)        \n",
    "#用均值填充缺失值\n",
    "#temp.fillna(temp.mean(),inplace=True)\n",
    "temp.fillna(0,inplace=True)\n",
    "print(temp.shape)#(69495, 243)\n",
    "trains=pd.merge(trains,temp,how='inner', on = \"用户标识\")#1154+243\n",
    "print(trains.shape)#(69495, 1392)"
   ]
  },
  {
   "cell_type": "code",
   "execution_count": null,
   "metadata": {
    "collapsed": true
   },
   "outputs": [],
   "source": [
    "train未知.to_csv(\"D:/Files/QQFiles/935257580/FileRecv/personal loan/output/bill_without_time.csv\",index=None,encoding=\"gb2312\") #0填充 (61612, 1391) 删除了部分账单时间未知样本"
   ]
  },
  {
   "cell_type": "markdown",
   "metadata": {},
   "source": [
    "## 用户账单表特征_整体"
   ]
  },
  {
   "cell_type": "code",
   "execution_count": null,
   "metadata": {
    "collapsed": true
   },
   "outputs": [],
   "source": [
    "beifen=trains[:]\n",
    "train = pd.read_csv(\"D:/Files/QQFiles/935257580/FileRecv/personal loan/feature/bill_feature_al_train.csv\",encoding=\"gb2312\") # 注意自己数据路径\n",
    "test = pd.read_csv(\"D:/Files/QQFiles/935257580/FileRecv/personal loan/feature/bill_feature_al_test.csv\",encoding=\"gb2312\") # 注意自己数据路径\n",
    "dataset= pd.concat([train,test],axis=0)\n",
    "temp=dataset[:]\n",
    "#temp.drop('放款时间',axis=1, inplace=True)\n",
    "print(temp.shape)#(69495, 242)\n",
    "#统计行和列的缺失值数\n",
    "dataset=dataset.fillna(-1)\n",
    "temp['用户账单表特征_时间未知缺失统计']=(dataset==-1).sum(axis=1)        \n",
    "#用均值填充缺失值\n",
    "#temp.fillna(temp.mean(),inplace=True)\n",
    "temp.fillna(0,inplace=True)\n",
    "print(temp.shape)#(69495, 243)\n",
    "trains=pd.merge(trains,temp,how='left', on = \"用户标识\")#1154+243\n",
    "print(trains.shape)#(69495, 1633)"
   ]
  },
  {
   "cell_type": "code",
   "execution_count": null,
   "metadata": {
    "collapsed": true
   },
   "outputs": [],
   "source": [
    "trains.to_csv(\"D:/Files/QQFiles/935257580/FileRecv/personal loan/feature/featureall_bill_total.csv\",index=None,encoding=\"gb2312\") #0填充 69495 rows × 608columns 只取整体特征"
   ]
  },
  {
   "cell_type": "markdown",
   "metadata": {},
   "source": [
    "# 测评"
   ]
  },
  {
   "cell_type": "code",
   "execution_count": null,
   "metadata": {
    "collapsed": true
   },
   "outputs": [],
   "source": [
    "dataset= pd.read_csv(\"D:/Files/QQFiles/935257580/FileRecv/personal loan/feature/featureall_ui.csv\",encoding=\"gb2312\") # 注意自己数据路径\n",
    "#dataset=trains[:]\n",
    "beifen=0\n",
    "trains=0\n",
    "dataset.drop('放款时间_x',axis=1, inplace=True)\n",
    "dataset.drop('放款时间_y',axis=1, inplace=True)\n",
    "dataset.drop('放款时间_x.1',axis=1, inplace=True)\n",
    "dataset.drop('放款时间_y.1',axis=1, inplace=True)\n",
    "\n",
    "from sklearn.preprocessing import MinMaxScaler\n",
    "#dataset=trains[:]\n",
    "#检测重复特征名称,并删除\n",
    "names=dataset.columns.tolist()\n",
    "print(len(names))\n",
    "print(len(set(names)))\n",
    "print(\"dataset大小：\")\n",
    "print(dataset.shape)\n",
    "myset = set(names)\n",
    "for item in myset:\n",
    "    #dataset[item] = MinMaxScaler().fit_transform(dataset[item])\n",
    "    if names.count(item)>1:\n",
    "        print(item)\n",
    "        dataset=dataset.drop(item,axis=1)\n",
    "print(\"新dataset大小：\")\n",
    "print(dataset.shape)"
   ]
  },
  {
   "cell_type": "code",
   "execution_count": null,
   "metadata": {
    "collapsed": true
   },
   "outputs": [],
   "source": [
    "tests=dataset[(dataset['标签']<0)]\n",
    "trains=dataset[(dataset['标签']>=0)]\n",
    "时间未知= pd.read_csv(\"../feature/账单时间未知特征_20170204.csv\",encoding=\"gb2312\")[['用户标识','时间未知上期账单金额sum']] # 注意自己数据路径\n",
    "t1,t2=train_test_split(时间未知, test_size = 0.5,random_state=36)#\n",
    "trains=pd.merge(trains,t1,how='left', on = \"用户标识\")#\n",
    "trains=trains[trains['时间未知上期账单金额sum'].isnull().values==True]#(39830, 241)\n",
    "trains.drop('时间未知上期账单金额sum',axis=1, inplace=True)\n",
    "trains.shape"
   ]
  },
  {
   "cell_type": "code",
   "execution_count": null,
   "metadata": {
    "collapsed": true
   },
   "outputs": [],
   "source": [
    "sns.FacetGrid(dataset, hue=\"标签\", size=5).map(plt.scatter, \"账单时间未知标志\", \"标签\").add_legend()"
   ]
  },
  {
   "cell_type": "markdown",
   "metadata": {},
   "source": [
    "## KS测评："
   ]
  },
  {
   "cell_type": "code",
   "execution_count": null,
   "metadata": {
    "collapsed": true
   },
   "outputs": [],
   "source": [
    "#t1=trains.columns\n",
    "#t2=tests.columns\n",
    "from sklearn import metrics\n",
    "def ks(y_predicted, y_true):\n",
    "    label=y_true\n",
    "    #label = y_true.get_label()\n",
    "    fpr,tpr,thres = metrics.roc_curve(label,y_predicted,pos_label=1)\n",
    "    return 'ks',abs(fpr - tpr).max()"
   ]
  },
  {
   "cell_type": "code",
   "execution_count": null,
   "metadata": {
    "collapsed": true
   },
   "outputs": [],
   "source": [
    "\n",
    "#trains=trains.drop(['放款时间'],axis=1) #55596行  \n",
    "#tests=tests.drop(['放款时间'],axis=1)#测试集:13899行\n",
    "online_test=tests\n",
    "#train_xy,offline_test = train_test_split(trains, test_size = 0.25,random_state=36)#41697/13899\n",
    "#train,val = train_test_split(train_xy, test_size = 0.333,random_state=24)#27811/13886\n",
    "#train,val = train_test_split(trains, test_size = 0.25,random_state=20)#41697/13899\n",
    "#train_xy,offline_test = train_test_split(trains, test_size = 0.25,random_state=10)#41697/13899\n",
    "\n",
    "#2017.02.04  \n",
    "train,val = train_test_split(trains, test_size = 0.25,random_state=36)#41697/13886\n",
    "offline_test=val[:]\n",
    "#train1,val1 = train_test_split(train_xy, test_size = 0.25,random_state=42)#27811/13886"
   ]
  },
  {
   "cell_type": "code",
   "execution_count": null,
   "metadata": {
    "collapsed": true
   },
   "outputs": [],
   "source": [
    "print(train_xy.shape)\n",
    "print(train.shape)\n",
    "print(val.shape)"
   ]
  },
  {
   "cell_type": "markdown",
   "metadata": {},
   "source": [
    "## 模型："
   ]
  },
  {
   "cell_type": "code",
   "execution_count": null,
   "metadata": {
    "collapsed": true
   },
   "outputs": [],
   "source": [
    "start_time = time.time()\n",
    "offline=0\n",
    "online=0\n",
    "params={'booster':'gbtree',\n",
    "    'objective': 'rank:pairwise',\n",
    "    'eval_metric':'auc',\n",
    "    'gamma':0.1,\n",
    "    'min_child_weight':1.1,\n",
    "    'max_depth':7,\n",
    "    'lambda':10,\n",
    "    'subsample':0.7,\n",
    "    'colsample_bytree':0.7,\n",
    "    'colsample_bylevel':0.7,\n",
    "    'eta': 0.01,\n",
    "    'tree_method':'exact',\n",
    "    'seed':1000,\n",
    "    'nthread':12\n",
    "    }\n",
    "\n",
    "params1={\n",
    "'booster':'gbtree',\n",
    "'objective': 'binary:logistic',\n",
    "'scale_pos_weight': 1/7.5,\n",
    "#7183正样本\n",
    "#55596条总样本\n",
    "#差不多1:7.7这样子\n",
    "'gamma':0.2,  # 用于控制是否后剪枝的参数,越大越保守，一般0.1、0.2这样子。\n",
    "'max_depth':8, # 构建树的深度，越大越容易过拟合\n",
    "'lambda':3,  # 控制模型复杂度的权重值的L2正则化项参数，参数越大，模型越不容易过拟合。\n",
    "'subsample':0.7, # 随机采样训练样本\n",
    "#'colsample_bytree':0.7, # 生成树时进行的列采样\n",
    "'min_child_weight':3, \n",
    "# 这个参数默认是 1，是每个叶子里面 h 的和至少是多少，对正负样本不均衡时的 0-1 分类而言\n",
    "#，假设 h 在 0.01 附近，min_child_weight 为 1 意味着叶子节点中最少需要包含 100 个样本。\n",
    "#这个参数非常影响结果，控制叶子节点中二阶导的和的最小值，该参数值越小，越容易 overfitting。 \n",
    "'silent':0 ,#设置成1则没有运行信息输出，最好是设置为0.\n",
    "'eta': 0.03, # 如同学习率\n",
    "'seed':1000,\n",
    "'nthread':12,# cpu 线程数\n",
    "'eval_metric': 'auc'\n",
    "}\n",
    "\n",
    "plst = list(params.items())\n",
    "num_rounds = 5000 # 迭代次数\n",
    "\n",
    "y = train.标签\n",
    "X = train.drop(['标签','用户标识'],axis=1)\n",
    "#X=train[feature_list]\n",
    "\n",
    "val_y = val.标签\n",
    "val_X = val.drop(['标签','用户标识'],axis=1)\n",
    "#val_X = val[feature_list]\n",
    "\n",
    "offline_test_X=offline_test.drop(['标签','用户标识'],axis=1)\n",
    "online_test_X=online_test.drop(['标签','用户标识'],axis=1)\n",
    "#offline_test_X=offline_test[feature_list]\n",
    "#online_test_X=online_test[feature_list]\n",
    "\n",
    "xgb_train = xgb.DMatrix(X, label=y)\n",
    "xgb_val = xgb.DMatrix(val_X,label=val_y)\n",
    "\n",
    "xgb_offline_test = xgb.DMatrix(offline_test_X)\n",
    "xgb_online_test = xgb.DMatrix(online_test_X)\n",
    "\n",
    "# return 训练和验证的错误率\n",
    "watchlist = [(xgb_train, 'train'),(xgb_val, 'val')]\n",
    "\n",
    "print (\"跑到这里了xgb.train\")\n",
    "# training model \n",
    "# early_stopping_rounds 当设置的迭代次数较大时，early_stopping_rounds 可在一定的迭代次数内准确率没有提升就停止训练\n",
    "model = xgb.train(plst, xgb_train,num_boost_round=7000,evals=watchlist,early_stopping_rounds=500)\n",
    "print (\"跑到这里了save_model\")\n",
    "model.save_model('../model/20170204_D_最好成绩特征训练集删去部分时间未知样本.model') # 用于存储训练出的模型\n",
    "print (\"best best_ntree_limit\",model.best_ntree_limit)   #did not save the best,why?\n",
    "print (\"best best_iteration\",model.best_iteration) #get it?\n",
    "\n",
    "print (\"跑到这里了model.predict\")\n",
    "preds_offline = model.predict(xgb_offline_test,ntree_limit=model.best_iteration)#\n",
    "preds_online = model.predict(xgb_online_test,ntree_limit=model.best_iteration)#\n",
    "offline=offline_test[['用户标识','标签']]\n",
    "online=online_test[['用户标识']]\n",
    "\n",
    "offline['预测']=preds_offline\n",
    "online['预测']=preds_online\n",
    "\n",
    "print(\"线下得分;\")\n",
    "print(ks(offline.预测,offline.标签))\n",
    "\n",
    "print (\"跑到这里了,输出结果\")\n",
    "from sklearn.preprocessing import MinMaxScaler\n",
    "online.预测 = MinMaxScaler().fit_transform(online.预测)\n",
    "output=online[['用户标识','预测']].rename(index=str, columns={\"用户标识\": \"userid\", \"预测\": \"probability\"})\n",
    "output.to_csv(\"../output/20170204_D_最好成绩特征训练集删去部分时间未知样本.csv\",index=None,encoding='utf-8')\n",
    "\n",
    "#save feature score and feature information:  feature,score,min,max,n_null,n_gt1w\n",
    "feature_score = model.get_fscore()\n",
    "feature_score = sorted(feature_score.items(), key=lambda x:x[1],reverse=True)\n",
    "fs = []\n",
    "for (key,value) in feature_score:\n",
    "    fs.append(\"{0},{1}\\n\".format(key,value))\n",
    "    \n",
    "with open('../feature_score/20170204_D_最好成绩特征训练集删去部分时间未知样本.csv','w') as f:\n",
    "        f.writelines(\"feature,score\\n\")\n",
    "        f.writelines(fs)\n",
    "        \n",
    "cost_time = time.time()-start_time\n",
    "print (\"\",'\\n',\"cost time:\",cost_time,\"(s)\")\n",
    "print (\"跑到这里了,结束！\")\n",
    "# CV训练\n",
    "#xgb.cv(xgb_config, dtrain, num_boost_round=10, nfold=5, maximize=False, verbose_eval=True)"
   ]
  }
 ],
 "metadata": {
  "kernelspec": {
   "display_name": "Python 3",
   "language": "python",
   "name": "python3"
  },
  "language_info": {
   "codemirror_mode": {
    "name": "ipython",
    "version": 3
   },
   "file_extension": ".py",
   "mimetype": "text/x-python",
   "name": "python",
   "nbconvert_exporter": "python",
   "pygments_lexer": "ipython3",
   "version": "3.6.1"
  }
 },
 "nbformat": 4,
 "nbformat_minor": 2
}
